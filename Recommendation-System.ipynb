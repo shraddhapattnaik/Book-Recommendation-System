{
 "cells": [
  {
   "cell_type": "code",
   "execution_count": 1,
   "id": "dae415b6",
   "metadata": {},
   "outputs": [],
   "source": [
    "import pandas as pd\n",
    "import numpy as np\n",
    "import matplotlib.pyplot as plt\n",
    "%matplotlib inline\n",
    "import seaborn as sns\n",
    "\n",
    "import re\n",
    "from PIL import Image\n",
    "import requests\n",
    "import random\n",
    "from sklearn.feature_extraction.text import CountVectorizer\n",
    "from sklearn.metrics.pairwise import cosine_similarity\n",
    "\n",
    "import warnings\n",
    "warnings.filterwarnings(\"ignore\")"
   ]
  },
  {
   "cell_type": "code",
   "execution_count": 2,
   "id": "12e272a4",
   "metadata": {},
   "outputs": [],
   "source": [
    "book_df = pd.read_csv(r\"Books.csv\")\n",
    "rating_df = pd.read_csv(r\"Ratings.csv\")\n",
    "users_df = pd.read_csv(r\"Users.csv\")"
   ]
  },
  {
   "cell_type": "code",
   "execution_count": 3,
   "id": "b86b53bf",
   "metadata": {},
   "outputs": [
    {
     "data": {
      "text/html": [
       "<div>\n",
       "<style scoped>\n",
       "    .dataframe tbody tr th:only-of-type {\n",
       "        vertical-align: middle;\n",
       "    }\n",
       "\n",
       "    .dataframe tbody tr th {\n",
       "        vertical-align: top;\n",
       "    }\n",
       "\n",
       "    .dataframe thead th {\n",
       "        text-align: right;\n",
       "    }\n",
       "</style>\n",
       "<table border=\"1\" class=\"dataframe\">\n",
       "  <thead>\n",
       "    <tr style=\"text-align: right;\">\n",
       "      <th></th>\n",
       "      <th>ISBN</th>\n",
       "      <th>Book-Title</th>\n",
       "      <th>Book-Author</th>\n",
       "      <th>Year-Of-Publication</th>\n",
       "      <th>Publisher</th>\n",
       "      <th>Image-URL-S</th>\n",
       "      <th>Image-URL-M</th>\n",
       "      <th>Image-URL-L</th>\n",
       "    </tr>\n",
       "  </thead>\n",
       "  <tbody>\n",
       "    <tr>\n",
       "      <th>0</th>\n",
       "      <td>0195153448</td>\n",
       "      <td>Classical Mythology</td>\n",
       "      <td>Mark P. O. Morford</td>\n",
       "      <td>2002</td>\n",
       "      <td>Oxford University Press</td>\n",
       "      <td>http://images.amazon.com/images/P/0195153448.0...</td>\n",
       "      <td>http://images.amazon.com/images/P/0195153448.0...</td>\n",
       "      <td>http://images.amazon.com/images/P/0195153448.0...</td>\n",
       "    </tr>\n",
       "    <tr>\n",
       "      <th>1</th>\n",
       "      <td>0002005018</td>\n",
       "      <td>Clara Callan</td>\n",
       "      <td>Richard Bruce Wright</td>\n",
       "      <td>2001</td>\n",
       "      <td>HarperFlamingo Canada</td>\n",
       "      <td>http://images.amazon.com/images/P/0002005018.0...</td>\n",
       "      <td>http://images.amazon.com/images/P/0002005018.0...</td>\n",
       "      <td>http://images.amazon.com/images/P/0002005018.0...</td>\n",
       "    </tr>\n",
       "    <tr>\n",
       "      <th>2</th>\n",
       "      <td>0060973129</td>\n",
       "      <td>Decision in Normandy</td>\n",
       "      <td>Carlo D'Este</td>\n",
       "      <td>1991</td>\n",
       "      <td>HarperPerennial</td>\n",
       "      <td>http://images.amazon.com/images/P/0060973129.0...</td>\n",
       "      <td>http://images.amazon.com/images/P/0060973129.0...</td>\n",
       "      <td>http://images.amazon.com/images/P/0060973129.0...</td>\n",
       "    </tr>\n",
       "  </tbody>\n",
       "</table>\n",
       "</div>"
      ],
      "text/plain": [
       "         ISBN            Book-Title           Book-Author Year-Of-Publication  \\\n",
       "0  0195153448   Classical Mythology    Mark P. O. Morford                2002   \n",
       "1  0002005018          Clara Callan  Richard Bruce Wright                2001   \n",
       "2  0060973129  Decision in Normandy          Carlo D'Este                1991   \n",
       "\n",
       "                 Publisher                                        Image-URL-S  \\\n",
       "0  Oxford University Press  http://images.amazon.com/images/P/0195153448.0...   \n",
       "1    HarperFlamingo Canada  http://images.amazon.com/images/P/0002005018.0...   \n",
       "2          HarperPerennial  http://images.amazon.com/images/P/0060973129.0...   \n",
       "\n",
       "                                         Image-URL-M  \\\n",
       "0  http://images.amazon.com/images/P/0195153448.0...   \n",
       "1  http://images.amazon.com/images/P/0002005018.0...   \n",
       "2  http://images.amazon.com/images/P/0060973129.0...   \n",
       "\n",
       "                                         Image-URL-L  \n",
       "0  http://images.amazon.com/images/P/0195153448.0...  \n",
       "1  http://images.amazon.com/images/P/0002005018.0...  \n",
       "2  http://images.amazon.com/images/P/0060973129.0...  "
      ]
     },
     "execution_count": 3,
     "metadata": {},
     "output_type": "execute_result"
    }
   ],
   "source": [
    "book_df.head(3)"
   ]
  },
  {
   "cell_type": "code",
   "execution_count": 4,
   "id": "b5c6f4cb",
   "metadata": {},
   "outputs": [
    {
     "data": {
      "text/plain": [
       "(271360, 8)"
      ]
     },
     "execution_count": 4,
     "metadata": {},
     "output_type": "execute_result"
    }
   ],
   "source": [
    "book_df.shape"
   ]
  },
  {
   "cell_type": "code",
   "execution_count": 5,
   "id": "026d4b14",
   "metadata": {},
   "outputs": [
    {
     "data": {
      "text/plain": [
       "ISBN                   0\n",
       "Book-Title             0\n",
       "Book-Author            1\n",
       "Year-Of-Publication    0\n",
       "Publisher              2\n",
       "Image-URL-S            0\n",
       "Image-URL-M            0\n",
       "Image-URL-L            3\n",
       "dtype: int64"
      ]
     },
     "execution_count": 5,
     "metadata": {},
     "output_type": "execute_result"
    }
   ],
   "source": [
    "book_df.isna().sum()"
   ]
  },
  {
   "cell_type": "code",
   "execution_count": 6,
   "id": "654b7371",
   "metadata": {},
   "outputs": [
    {
     "data": {
      "text/plain": [
       "271360"
      ]
     },
     "execution_count": 6,
     "metadata": {},
     "output_type": "execute_result"
    }
   ],
   "source": [
    "book_df[\"ISBN\"].nunique()"
   ]
  },
  {
   "cell_type": "code",
   "execution_count": 7,
   "id": "99a72de7",
   "metadata": {},
   "outputs": [],
   "source": [
    "book_df = book_df.drop([\"Image-URL-S\", \"Image-URL-M\"], axis=1)"
   ]
  },
  {
   "cell_type": "code",
   "execution_count": 8,
   "id": "a41e39c8",
   "metadata": {},
   "outputs": [
    {
     "data": {
      "text/html": [
       "<div>\n",
       "<style scoped>\n",
       "    .dataframe tbody tr th:only-of-type {\n",
       "        vertical-align: middle;\n",
       "    }\n",
       "\n",
       "    .dataframe tbody tr th {\n",
       "        vertical-align: top;\n",
       "    }\n",
       "\n",
       "    .dataframe thead th {\n",
       "        text-align: right;\n",
       "    }\n",
       "</style>\n",
       "<table border=\"1\" class=\"dataframe\">\n",
       "  <thead>\n",
       "    <tr style=\"text-align: right;\">\n",
       "      <th></th>\n",
       "      <th>ISBN</th>\n",
       "      <th>Book-Title</th>\n",
       "      <th>Book-Author</th>\n",
       "      <th>Year-Of-Publication</th>\n",
       "      <th>Publisher</th>\n",
       "      <th>Image-URL-L</th>\n",
       "    </tr>\n",
       "  </thead>\n",
       "  <tbody>\n",
       "    <tr>\n",
       "      <th>0</th>\n",
       "      <td>0195153448</td>\n",
       "      <td>Classical Mythology</td>\n",
       "      <td>Mark P. O. Morford</td>\n",
       "      <td>2002</td>\n",
       "      <td>Oxford University Press</td>\n",
       "      <td>http://images.amazon.com/images/P/0195153448.0...</td>\n",
       "    </tr>\n",
       "    <tr>\n",
       "      <th>1</th>\n",
       "      <td>0002005018</td>\n",
       "      <td>Clara Callan</td>\n",
       "      <td>Richard Bruce Wright</td>\n",
       "      <td>2001</td>\n",
       "      <td>HarperFlamingo Canada</td>\n",
       "      <td>http://images.amazon.com/images/P/0002005018.0...</td>\n",
       "    </tr>\n",
       "    <tr>\n",
       "      <th>2</th>\n",
       "      <td>0060973129</td>\n",
       "      <td>Decision in Normandy</td>\n",
       "      <td>Carlo D'Este</td>\n",
       "      <td>1991</td>\n",
       "      <td>HarperPerennial</td>\n",
       "      <td>http://images.amazon.com/images/P/0060973129.0...</td>\n",
       "    </tr>\n",
       "    <tr>\n",
       "      <th>3</th>\n",
       "      <td>0374157065</td>\n",
       "      <td>Flu: The Story of the Great Influenza Pandemic...</td>\n",
       "      <td>Gina Bari Kolata</td>\n",
       "      <td>1999</td>\n",
       "      <td>Farrar Straus Giroux</td>\n",
       "      <td>http://images.amazon.com/images/P/0374157065.0...</td>\n",
       "    </tr>\n",
       "    <tr>\n",
       "      <th>4</th>\n",
       "      <td>0393045218</td>\n",
       "      <td>The Mummies of Urumchi</td>\n",
       "      <td>E. J. W. Barber</td>\n",
       "      <td>1999</td>\n",
       "      <td>W. W. Norton &amp;amp; Company</td>\n",
       "      <td>http://images.amazon.com/images/P/0393045218.0...</td>\n",
       "    </tr>\n",
       "  </tbody>\n",
       "</table>\n",
       "</div>"
      ],
      "text/plain": [
       "         ISBN                                         Book-Title  \\\n",
       "0  0195153448                                Classical Mythology   \n",
       "1  0002005018                                       Clara Callan   \n",
       "2  0060973129                               Decision in Normandy   \n",
       "3  0374157065  Flu: The Story of the Great Influenza Pandemic...   \n",
       "4  0393045218                             The Mummies of Urumchi   \n",
       "\n",
       "            Book-Author Year-Of-Publication                   Publisher  \\\n",
       "0    Mark P. O. Morford                2002     Oxford University Press   \n",
       "1  Richard Bruce Wright                2001       HarperFlamingo Canada   \n",
       "2          Carlo D'Este                1991             HarperPerennial   \n",
       "3      Gina Bari Kolata                1999        Farrar Straus Giroux   \n",
       "4       E. J. W. Barber                1999  W. W. Norton &amp; Company   \n",
       "\n",
       "                                         Image-URL-L  \n",
       "0  http://images.amazon.com/images/P/0195153448.0...  \n",
       "1  http://images.amazon.com/images/P/0002005018.0...  \n",
       "2  http://images.amazon.com/images/P/0060973129.0...  \n",
       "3  http://images.amazon.com/images/P/0374157065.0...  \n",
       "4  http://images.amazon.com/images/P/0393045218.0...  "
      ]
     },
     "execution_count": 8,
     "metadata": {},
     "output_type": "execute_result"
    }
   ],
   "source": [
    "book_df.head()"
   ]
  },
  {
   "cell_type": "code",
   "execution_count": 9,
   "id": "4c65371f",
   "metadata": {},
   "outputs": [
    {
     "data": {
      "text/html": [
       "<div>\n",
       "<style scoped>\n",
       "    .dataframe tbody tr th:only-of-type {\n",
       "        vertical-align: middle;\n",
       "    }\n",
       "\n",
       "    .dataframe tbody tr th {\n",
       "        vertical-align: top;\n",
       "    }\n",
       "\n",
       "    .dataframe thead th {\n",
       "        text-align: right;\n",
       "    }\n",
       "</style>\n",
       "<table border=\"1\" class=\"dataframe\">\n",
       "  <thead>\n",
       "    <tr style=\"text-align: right;\">\n",
       "      <th></th>\n",
       "      <th>User-ID</th>\n",
       "      <th>ISBN</th>\n",
       "      <th>Book-Rating</th>\n",
       "    </tr>\n",
       "  </thead>\n",
       "  <tbody>\n",
       "    <tr>\n",
       "      <th>0</th>\n",
       "      <td>276725</td>\n",
       "      <td>034545104X</td>\n",
       "      <td>0</td>\n",
       "    </tr>\n",
       "    <tr>\n",
       "      <th>1</th>\n",
       "      <td>276726</td>\n",
       "      <td>0155061224</td>\n",
       "      <td>5</td>\n",
       "    </tr>\n",
       "    <tr>\n",
       "      <th>2</th>\n",
       "      <td>276727</td>\n",
       "      <td>0446520802</td>\n",
       "      <td>0</td>\n",
       "    </tr>\n",
       "    <tr>\n",
       "      <th>3</th>\n",
       "      <td>276729</td>\n",
       "      <td>052165615X</td>\n",
       "      <td>3</td>\n",
       "    </tr>\n",
       "    <tr>\n",
       "      <th>4</th>\n",
       "      <td>276729</td>\n",
       "      <td>0521795028</td>\n",
       "      <td>6</td>\n",
       "    </tr>\n",
       "  </tbody>\n",
       "</table>\n",
       "</div>"
      ],
      "text/plain": [
       "   User-ID        ISBN  Book-Rating\n",
       "0   276725  034545104X            0\n",
       "1   276726  0155061224            5\n",
       "2   276727  0446520802            0\n",
       "3   276729  052165615X            3\n",
       "4   276729  0521795028            6"
      ]
     },
     "execution_count": 9,
     "metadata": {},
     "output_type": "execute_result"
    }
   ],
   "source": [
    "rating_df.head()"
   ]
  },
  {
   "cell_type": "code",
   "execution_count": 10,
   "id": "fca607e9",
   "metadata": {},
   "outputs": [
    {
     "data": {
      "text/plain": [
       "(1149780, 3)"
      ]
     },
     "execution_count": 10,
     "metadata": {},
     "output_type": "execute_result"
    }
   ],
   "source": [
    "rating_df.shape"
   ]
  },
  {
   "cell_type": "code",
   "execution_count": 11,
   "id": "e5c58916",
   "metadata": {},
   "outputs": [
    {
     "data": {
      "text/plain": [
       "User-ID        0\n",
       "ISBN           0\n",
       "Book-Rating    0\n",
       "dtype: int64"
      ]
     },
     "execution_count": 11,
     "metadata": {},
     "output_type": "execute_result"
    }
   ],
   "source": [
    "rating_df.isna().sum()"
   ]
  },
  {
   "cell_type": "code",
   "execution_count": 12,
   "id": "fb076631",
   "metadata": {},
   "outputs": [
    {
     "data": {
      "text/plain": [
       "340556"
      ]
     },
     "execution_count": 12,
     "metadata": {},
     "output_type": "execute_result"
    }
   ],
   "source": [
    "rating_df[\"ISBN\"].nunique()"
   ]
  },
  {
   "cell_type": "code",
   "execution_count": 13,
   "id": "f730b277",
   "metadata": {},
   "outputs": [
    {
     "name": "stdout",
     "output_type": "stream",
     "text": [
      "Max Rating:  10 \n",
      "Min Rating:  0\n"
     ]
    }
   ],
   "source": [
    "print(\"Max Rating: \", rating_df[\"Book-Rating\"].max(), \"\\nMin Rating: \", rating_df[\"Book-Rating\"].min())"
   ]
  },
  {
   "cell_type": "code",
   "execution_count": 14,
   "id": "f92bac94",
   "metadata": {},
   "outputs": [
    {
     "data": {
      "text/plain": [
       "(414242, 3)"
      ]
     },
     "execution_count": 14,
     "metadata": {},
     "output_type": "execute_result"
    }
   ],
   "source": [
    "rating_df = rating_df[rating_df[\"Book-Rating\"]>4]\n",
    "rating_df.shape"
   ]
  },
  {
   "cell_type": "code",
   "execution_count": 15,
   "id": "53726df6",
   "metadata": {},
   "outputs": [],
   "source": [
    "df = book_df.merge(rating_df, on=\"ISBN\")"
   ]
  },
  {
   "cell_type": "code",
   "execution_count": 16,
   "id": "808e8f30",
   "metadata": {},
   "outputs": [
    {
     "data": {
      "text/html": [
       "<div>\n",
       "<style scoped>\n",
       "    .dataframe tbody tr th:only-of-type {\n",
       "        vertical-align: middle;\n",
       "    }\n",
       "\n",
       "    .dataframe tbody tr th {\n",
       "        vertical-align: top;\n",
       "    }\n",
       "\n",
       "    .dataframe thead th {\n",
       "        text-align: right;\n",
       "    }\n",
       "</style>\n",
       "<table border=\"1\" class=\"dataframe\">\n",
       "  <thead>\n",
       "    <tr style=\"text-align: right;\">\n",
       "      <th></th>\n",
       "      <th>ISBN</th>\n",
       "      <th>Book-Title</th>\n",
       "      <th>Book-Author</th>\n",
       "      <th>Year-Of-Publication</th>\n",
       "      <th>Publisher</th>\n",
       "      <th>Image-URL-L</th>\n",
       "      <th>User-ID</th>\n",
       "      <th>Book-Rating</th>\n",
       "    </tr>\n",
       "  </thead>\n",
       "  <tbody>\n",
       "    <tr>\n",
       "      <th>0</th>\n",
       "      <td>0002005018</td>\n",
       "      <td>Clara Callan</td>\n",
       "      <td>Richard Bruce Wright</td>\n",
       "      <td>2001</td>\n",
       "      <td>HarperFlamingo Canada</td>\n",
       "      <td>http://images.amazon.com/images/P/0002005018.0...</td>\n",
       "      <td>8</td>\n",
       "      <td>5</td>\n",
       "    </tr>\n",
       "    <tr>\n",
       "      <th>1</th>\n",
       "      <td>0002005018</td>\n",
       "      <td>Clara Callan</td>\n",
       "      <td>Richard Bruce Wright</td>\n",
       "      <td>2001</td>\n",
       "      <td>HarperFlamingo Canada</td>\n",
       "      <td>http://images.amazon.com/images/P/0002005018.0...</td>\n",
       "      <td>11676</td>\n",
       "      <td>8</td>\n",
       "    </tr>\n",
       "    <tr>\n",
       "      <th>2</th>\n",
       "      <td>0002005018</td>\n",
       "      <td>Clara Callan</td>\n",
       "      <td>Richard Bruce Wright</td>\n",
       "      <td>2001</td>\n",
       "      <td>HarperFlamingo Canada</td>\n",
       "      <td>http://images.amazon.com/images/P/0002005018.0...</td>\n",
       "      <td>67544</td>\n",
       "      <td>8</td>\n",
       "    </tr>\n",
       "    <tr>\n",
       "      <th>3</th>\n",
       "      <td>0002005018</td>\n",
       "      <td>Clara Callan</td>\n",
       "      <td>Richard Bruce Wright</td>\n",
       "      <td>2001</td>\n",
       "      <td>HarperFlamingo Canada</td>\n",
       "      <td>http://images.amazon.com/images/P/0002005018.0...</td>\n",
       "      <td>116866</td>\n",
       "      <td>9</td>\n",
       "    </tr>\n",
       "    <tr>\n",
       "      <th>4</th>\n",
       "      <td>0002005018</td>\n",
       "      <td>Clara Callan</td>\n",
       "      <td>Richard Bruce Wright</td>\n",
       "      <td>2001</td>\n",
       "      <td>HarperFlamingo Canada</td>\n",
       "      <td>http://images.amazon.com/images/P/0002005018.0...</td>\n",
       "      <td>123629</td>\n",
       "      <td>9</td>\n",
       "    </tr>\n",
       "  </tbody>\n",
       "</table>\n",
       "</div>"
      ],
      "text/plain": [
       "         ISBN    Book-Title           Book-Author Year-Of-Publication  \\\n",
       "0  0002005018  Clara Callan  Richard Bruce Wright                2001   \n",
       "1  0002005018  Clara Callan  Richard Bruce Wright                2001   \n",
       "2  0002005018  Clara Callan  Richard Bruce Wright                2001   \n",
       "3  0002005018  Clara Callan  Richard Bruce Wright                2001   \n",
       "4  0002005018  Clara Callan  Richard Bruce Wright                2001   \n",
       "\n",
       "               Publisher                                        Image-URL-L  \\\n",
       "0  HarperFlamingo Canada  http://images.amazon.com/images/P/0002005018.0...   \n",
       "1  HarperFlamingo Canada  http://images.amazon.com/images/P/0002005018.0...   \n",
       "2  HarperFlamingo Canada  http://images.amazon.com/images/P/0002005018.0...   \n",
       "3  HarperFlamingo Canada  http://images.amazon.com/images/P/0002005018.0...   \n",
       "4  HarperFlamingo Canada  http://images.amazon.com/images/P/0002005018.0...   \n",
       "\n",
       "   User-ID  Book-Rating  \n",
       "0        8            5  \n",
       "1    11676            8  \n",
       "2    67544            8  \n",
       "3   116866            9  \n",
       "4   123629            9  "
      ]
     },
     "execution_count": 16,
     "metadata": {},
     "output_type": "execute_result"
    }
   ],
   "source": [
    "df.head()"
   ]
  },
  {
   "cell_type": "code",
   "execution_count": 17,
   "id": "4414820d",
   "metadata": {},
   "outputs": [
    {
     "data": {
      "text/html": [
       "<div>\n",
       "<style scoped>\n",
       "    .dataframe tbody tr th:only-of-type {\n",
       "        vertical-align: middle;\n",
       "    }\n",
       "\n",
       "    .dataframe tbody tr th {\n",
       "        vertical-align: top;\n",
       "    }\n",
       "\n",
       "    .dataframe thead th {\n",
       "        text-align: right;\n",
       "    }\n",
       "</style>\n",
       "<table border=\"1\" class=\"dataframe\">\n",
       "  <thead>\n",
       "    <tr style=\"text-align: right;\">\n",
       "      <th></th>\n",
       "      <th>Book-Title</th>\n",
       "      <th>Book-Author</th>\n",
       "      <th>Publisher</th>\n",
       "      <th>Image-URL-L</th>\n",
       "      <th>User-ID</th>\n",
       "      <th>Book-Rating</th>\n",
       "    </tr>\n",
       "  </thead>\n",
       "  <tbody>\n",
       "    <tr>\n",
       "      <th>0</th>\n",
       "      <td>Clara Callan</td>\n",
       "      <td>Richard Bruce Wright</td>\n",
       "      <td>HarperFlamingo Canada</td>\n",
       "      <td>http://images.amazon.com/images/P/0002005018.0...</td>\n",
       "      <td>8</td>\n",
       "      <td>5</td>\n",
       "    </tr>\n",
       "    <tr>\n",
       "      <th>1</th>\n",
       "      <td>Clara Callan</td>\n",
       "      <td>Richard Bruce Wright</td>\n",
       "      <td>HarperFlamingo Canada</td>\n",
       "      <td>http://images.amazon.com/images/P/0002005018.0...</td>\n",
       "      <td>11676</td>\n",
       "      <td>8</td>\n",
       "    </tr>\n",
       "    <tr>\n",
       "      <th>2</th>\n",
       "      <td>Clara Callan</td>\n",
       "      <td>Richard Bruce Wright</td>\n",
       "      <td>HarperFlamingo Canada</td>\n",
       "      <td>http://images.amazon.com/images/P/0002005018.0...</td>\n",
       "      <td>67544</td>\n",
       "      <td>8</td>\n",
       "    </tr>\n",
       "    <tr>\n",
       "      <th>3</th>\n",
       "      <td>Clara Callan</td>\n",
       "      <td>Richard Bruce Wright</td>\n",
       "      <td>HarperFlamingo Canada</td>\n",
       "      <td>http://images.amazon.com/images/P/0002005018.0...</td>\n",
       "      <td>116866</td>\n",
       "      <td>9</td>\n",
       "    </tr>\n",
       "    <tr>\n",
       "      <th>4</th>\n",
       "      <td>Clara Callan</td>\n",
       "      <td>Richard Bruce Wright</td>\n",
       "      <td>HarperFlamingo Canada</td>\n",
       "      <td>http://images.amazon.com/images/P/0002005018.0...</td>\n",
       "      <td>123629</td>\n",
       "      <td>9</td>\n",
       "    </tr>\n",
       "  </tbody>\n",
       "</table>\n",
       "</div>"
      ],
      "text/plain": [
       "     Book-Title           Book-Author              Publisher  \\\n",
       "0  Clara Callan  Richard Bruce Wright  HarperFlamingo Canada   \n",
       "1  Clara Callan  Richard Bruce Wright  HarperFlamingo Canada   \n",
       "2  Clara Callan  Richard Bruce Wright  HarperFlamingo Canada   \n",
       "3  Clara Callan  Richard Bruce Wright  HarperFlamingo Canada   \n",
       "4  Clara Callan  Richard Bruce Wright  HarperFlamingo Canada   \n",
       "\n",
       "                                         Image-URL-L  User-ID  Book-Rating  \n",
       "0  http://images.amazon.com/images/P/0002005018.0...        8            5  \n",
       "1  http://images.amazon.com/images/P/0002005018.0...    11676            8  \n",
       "2  http://images.amazon.com/images/P/0002005018.0...    67544            8  \n",
       "3  http://images.amazon.com/images/P/0002005018.0...   116866            9  \n",
       "4  http://images.amazon.com/images/P/0002005018.0...   123629            9  "
      ]
     },
     "execution_count": 17,
     "metadata": {},
     "output_type": "execute_result"
    }
   ],
   "source": [
    "df.dropna(inplace=True)\n",
    "df.reset_index(drop=True,inplace=True)\n",
    "df.drop(columns=[\"ISBN\",\"Year-Of-Publication\"],axis=1,inplace=True)\n",
    "df[\"Book-Title\"]=df[\"Book-Title\"].apply(lambda x: re.sub(\"[\\W_]+\",\" \",x).strip())\n",
    "\n",
    "df.head()"
   ]
  },
  {
   "cell_type": "code",
   "execution_count": 18,
   "id": "ea64f7bd",
   "metadata": {},
   "outputs": [],
   "source": [
    "def popular_books(df, n=100):\n",
    "    rating_count = df.groupby(\"Book-Title\").count()[\"Book-Rating\"].reset_index()\n",
    "    rating_count.rename(columns={\"Book-Rating\":\"NumberOfVotes\"}, inplace=True)\n",
    "    \n",
    "    rating_average = df.groupby(\"Book-Title\")[\"Book-Rating\"].mean().reset_index()\n",
    "    rating_average.rename(columns={\"Book-Rating\":\"AverageRatings\"},inplace=True)\n",
    "    \n",
    "    popularBooks = rating_count.merge(rating_average, on=\"Book-Title\")\n",
    "    \n",
    "    def weighted_rate(x):\n",
    "        v = x[\"NumberOfVotes\"]\n",
    "        R = x[\"AverageRatings\"]   \n",
    "        return ((v*R) + (m*C)) / (v+m)\n",
    "    \n",
    "    C = popularBooks[\"AverageRatings\"].mean()\n",
    "    m = popularBooks[\"NumberOfVotes\"].quantile(0.90) \n",
    "    \n",
    "    popularBooks = popularBooks[popularBooks[\"NumberOfVotes\"] >=250]\n",
    "    popularBooks[\"Popularity\"] = popularBooks.apply(weighted_rate, axis=1)\n",
    "    popularBooks=popularBooks.sort_values(by=\"Popularity\", ascending=False)\n",
    "    \n",
    "    return popularBooks[[\"Book-Title\",\"NumberOfVotes\",\"AverageRatings\",\"Popularity\"]].reset_index(drop=True).head(n)"
   ]
  },
  {
   "cell_type": "code",
   "execution_count": 19,
   "id": "1d98da18",
   "metadata": {},
   "outputs": [
    {
     "data": {
      "text/html": [
       "<div>\n",
       "<style scoped>\n",
       "    .dataframe tbody tr th:only-of-type {\n",
       "        vertical-align: middle;\n",
       "    }\n",
       "\n",
       "    .dataframe tbody tr th {\n",
       "        vertical-align: top;\n",
       "    }\n",
       "\n",
       "    .dataframe thead th {\n",
       "        text-align: right;\n",
       "    }\n",
       "</style>\n",
       "<table border=\"1\" class=\"dataframe\">\n",
       "  <thead>\n",
       "    <tr style=\"text-align: right;\">\n",
       "      <th></th>\n",
       "      <th>Book-Title</th>\n",
       "      <th>NumberOfVotes</th>\n",
       "      <th>AverageRatings</th>\n",
       "      <th>Popularity</th>\n",
       "    </tr>\n",
       "  </thead>\n",
       "  <tbody>\n",
       "    <tr>\n",
       "      <th>0</th>\n",
       "      <td>Harry Potter and the Prisoner of Azkaban Book 3</td>\n",
       "      <td>277</td>\n",
       "      <td>9.043321</td>\n",
       "      <td>9.020034</td>\n",
       "    </tr>\n",
       "    <tr>\n",
       "      <th>1</th>\n",
       "      <td>To Kill a Mockingbird</td>\n",
       "      <td>265</td>\n",
       "      <td>9.015094</td>\n",
       "      <td>8.991295</td>\n",
       "    </tr>\n",
       "    <tr>\n",
       "      <th>2</th>\n",
       "      <td>Harry Potter and the Sorcerer s Stone Harry Po...</td>\n",
       "      <td>312</td>\n",
       "      <td>9.009615</td>\n",
       "      <td>8.989431</td>\n",
       "    </tr>\n",
       "    <tr>\n",
       "      <th>3</th>\n",
       "      <td>Harry Potter and the Chamber of Secrets Book 2</td>\n",
       "      <td>325</td>\n",
       "      <td>8.855385</td>\n",
       "      <td>8.838332</td>\n",
       "    </tr>\n",
       "    <tr>\n",
       "      <th>4</th>\n",
       "      <td>The Da Vinci Code</td>\n",
       "      <td>482</td>\n",
       "      <td>8.578838</td>\n",
       "      <td>8.570122</td>\n",
       "    </tr>\n",
       "    <tr>\n",
       "      <th>5</th>\n",
       "      <td>The Secret Life of Bees</td>\n",
       "      <td>398</td>\n",
       "      <td>8.575377</td>\n",
       "      <td>8.564887</td>\n",
       "    </tr>\n",
       "    <tr>\n",
       "      <th>6</th>\n",
       "      <td>The Red Tent Bestselling Backlist</td>\n",
       "      <td>369</td>\n",
       "      <td>8.363144</td>\n",
       "      <td>8.354678</td>\n",
       "    </tr>\n",
       "    <tr>\n",
       "      <th>7</th>\n",
       "      <td>The Notebook</td>\n",
       "      <td>268</td>\n",
       "      <td>8.328358</td>\n",
       "      <td>8.317398</td>\n",
       "    </tr>\n",
       "    <tr>\n",
       "      <th>8</th>\n",
       "      <td>The Lovely Bones A Novel</td>\n",
       "      <td>692</td>\n",
       "      <td>8.299133</td>\n",
       "      <td>8.295050</td>\n",
       "    </tr>\n",
       "    <tr>\n",
       "      <th>9</th>\n",
       "      <td>Life of Pi</td>\n",
       "      <td>322</td>\n",
       "      <td>8.295031</td>\n",
       "      <td>8.286390</td>\n",
       "    </tr>\n",
       "  </tbody>\n",
       "</table>\n",
       "</div>"
      ],
      "text/plain": [
       "                                          Book-Title  NumberOfVotes  \\\n",
       "0    Harry Potter and the Prisoner of Azkaban Book 3            277   \n",
       "1                              To Kill a Mockingbird            265   \n",
       "2  Harry Potter and the Sorcerer s Stone Harry Po...            312   \n",
       "3     Harry Potter and the Chamber of Secrets Book 2            325   \n",
       "4                                  The Da Vinci Code            482   \n",
       "5                            The Secret Life of Bees            398   \n",
       "6                  The Red Tent Bestselling Backlist            369   \n",
       "7                                       The Notebook            268   \n",
       "8                           The Lovely Bones A Novel            692   \n",
       "9                                         Life of Pi            322   \n",
       "\n",
       "   AverageRatings  Popularity  \n",
       "0        9.043321    9.020034  \n",
       "1        9.015094    8.991295  \n",
       "2        9.009615    8.989431  \n",
       "3        8.855385    8.838332  \n",
       "4        8.578838    8.570122  \n",
       "5        8.575377    8.564887  \n",
       "6        8.363144    8.354678  \n",
       "7        8.328358    8.317398  \n",
       "8        8.299133    8.295050  \n",
       "9        8.295031    8.286390  "
      ]
     },
     "execution_count": 19,
     "metadata": {},
     "output_type": "execute_result"
    }
   ],
   "source": [
    "popular_books(df, 10)"
   ]
  },
  {
   "cell_type": "code",
   "execution_count": 20,
   "id": "e4fe565c",
   "metadata": {},
   "outputs": [],
   "source": [
    "def item_based(bookTitle):\n",
    "    bookTitle = str(bookTitle)\n",
    "    \n",
    "    if bookTitle in df[\"Book-Title\"].values:\n",
    "        rating_count = pd.DataFrame(df[\"Book-Title\"].value_counts())\n",
    "        rare_books = rating_count[rating_count[\"Book-Title\"]<=200].index\n",
    "        common_books = df[~df[\"Book-Title\"].isin(rare_books)]\n",
    "        \n",
    "        if bookTitle in rare_books:\n",
    "            print(\"No Recommendations for this Book \\nYOU MAY TRY: \\n \")\n",
    "            print(common_books[[\"Book-Title\"]].sample(3))\n",
    "        \n",
    "        else:\n",
    "            common_books_pivot = common_books.pivot_table(index=[\"User-ID\"], columns=[\"Book-Title\"], values=\"Book-Rating\")\n",
    "            title = common_books_pivot[bookTitle]\n",
    "            recommendation_df = pd.DataFrame(common_books_pivot.corrwith(title).sort_values(ascending=False)).reset_index(drop=False)\n",
    "            \n",
    "            if bookTitle in [title for title in recommendation_df[\"Book-Title\"]]:\n",
    "                recommendation_df = recommendation_df.drop(recommendation_df[recommendation_df[\"Book-Title\"] == bookTitle].index[0])\n",
    "                \n",
    "            less_rating = []\n",
    "            for i in recommendation_df[\"Book-Title\"]:\n",
    "                if df[df[\"Book-Title\"]==i][\"Book-Rating\"].mean() < 5:\n",
    "                    less_rating.append(i)\n",
    "            if recommendation_df.shape[0] - len(less_rating) > 5:\n",
    "                recommendation_df = recommendation_df[~recommendation_df[\"Book-Title\"].isin(less_rating)]\n",
    "            recommendation_df.columns=[\"Book-Title\",\"Correlation\"]   \n",
    "            print(recommendation_df[:6])\n",
    "            \n",
    "    else:\n",
    "        print(\" COULD NOT FIND \")"
   ]
  },
  {
   "cell_type": "code",
   "execution_count": 21,
   "id": "ca9f9d68",
   "metadata": {},
   "outputs": [
    {
     "name": "stdout",
     "output_type": "stream",
     "text": [
      "No Recommendations for this Book \n",
      "YOU MAY TRY: \n",
      " \n",
      "                              Book-Title\n",
      "39012                     Fahrenheit 451\n",
      "12091  The Red Tent Bestselling Backlist\n",
      "7392                     A Painted House\n"
     ]
    }
   ],
   "source": [
    "item_based(\"Clara Callan\")"
   ]
  },
  {
   "cell_type": "code",
   "execution_count": 22,
   "id": "568e911e",
   "metadata": {},
   "outputs": [
    {
     "name": "stdout",
     "output_type": "stream",
     "text": [
      " COULD NOT FIND \n"
     ]
    }
   ],
   "source": [
    "item_based(\"From One to One Hundred\")"
   ]
  },
  {
   "cell_type": "code",
   "execution_count": 23,
   "id": "0eba0a69",
   "metadata": {},
   "outputs": [
    {
     "name": "stdout",
     "output_type": "stream",
     "text": [
      "                                          Book-Title  Correlation\n",
      "1                                           The Firm     0.798596\n",
      "2                                 1st to Die A Novel     0.769060\n",
      "3                          The Nanny Diaries A Novel     0.754599\n",
      "4                She s Come Undone Oprah s Book Club     0.611124\n",
      "5  The Fellowship of the Ring The Lord of the Rin...     0.582661\n",
      "6                                      Jurassic Park     0.570756\n"
     ]
    }
   ],
   "source": [
    "item_based(\"To Kill a Mockingbird\")"
   ]
  },
  {
   "cell_type": "code",
   "execution_count": 24,
   "id": "6243717e",
   "metadata": {},
   "outputs": [],
   "source": [
    "def content_based(bookTitle):\n",
    "    bookTitle = str(bookTitle)\n",
    "    \n",
    "    if bookTitle in df[\"Book-Title\"].values:\n",
    "        rating_count = pd.DataFrame(df[\"Book-Title\"].value_counts())\n",
    "        rare_books = rating_count[rating_count[\"Book-Title\"]<=200].index\n",
    "        common_books = df[~df[\"Book-Title\"].isin(rare_books)]\n",
    "        \n",
    "        if bookTitle in rare_books:\n",
    "            print(\"No Recommendations for this Book \\nYOU MAY TRY: \\n \")\n",
    "            print(common_books[[\"Book-Title\"]].sample(3))\n",
    "            \n",
    "        else:\n",
    "            common_books = common_books.drop_duplicates(subset=[\"Book-Title\"])\n",
    "            common_books.reset_index(inplace=True)\n",
    "            \n",
    "            common_books[\"index\"] = [i for i in range(common_books.shape[0])]\n",
    "            targets = [\"Book-Title\",\"Book-Author\",\"Publisher\"]\n",
    "            common_books[\"all_features\"] = [\" \".join(common_books[targets].iloc[i,].values) for i in range(common_books[targets].shape[0])]\n",
    "            \n",
    "            vectorizer = CountVectorizer()\n",
    "            common_booksVector = vectorizer.fit_transform(common_books[\"all_features\"])\n",
    "            \n",
    "            similarity = cosine_similarity(common_booksVector)\n",
    "            \n",
    "            index = common_books[common_books[\"Book-Title\"]==bookTitle][\"index\"].values[0]\n",
    "            similar_books = list(enumerate(similarity[index]))\n",
    "            similar_booksSorted = sorted(similar_books,key=lambda x:x[1],reverse=True)[1:6]\n",
    "            \n",
    "            books=[]\n",
    "            for i in range(len(similar_booksSorted)):\n",
    "                books.append(common_books[common_books[\"index\"]==similar_booksSorted[i][0]][\"Book-Title\"].item())\n",
    "            \n",
    "            print(\"You May Like: \", books)\n",
    "    else:\n",
    "        print(\" COULD NOT FIND \") "
   ]
  },
  {
   "cell_type": "code",
   "execution_count": 25,
   "id": "02bfc427",
   "metadata": {},
   "outputs": [
    {
     "name": "stdout",
     "output_type": "stream",
     "text": [
      "You May Like:  ['The Catcher in the Rye', 'The Brethren', 'The Firm', 'The Partner', 'Angels amp Demons']\n"
     ]
    }
   ],
   "source": [
    "content_based(\"The Da Vinci Code\")"
   ]
  },
  {
   "cell_type": "code",
   "execution_count": 26,
   "id": "43670a12",
   "metadata": {},
   "outputs": [
    {
     "name": "stdout",
     "output_type": "stream",
     "text": [
      "You May Like:  ['The Five People You Meet in Heaven', 'The Brethren', 'Life of Pi', 'The Firm', 'The Partner']\n"
     ]
    }
   ],
   "source": [
    "content_based(\"Tuesdays with Morrie An Old Man a Young Man and Life s Greatest Lesson\")"
   ]
  },
  {
   "cell_type": "code",
   "execution_count": 27,
   "id": "61ad3379",
   "metadata": {},
   "outputs": [
    {
     "name": "stdout",
     "output_type": "stream",
     "text": [
      "No Recommendations for this Book \n",
      "YOU MAY TRY: \n",
      " \n",
      "                                             Book-Title\n",
      "12859                                        Life of Pi\n",
      "144190                          The Secret Life of Bees\n",
      "56760   Harry Potter and the Prisoner of Azkaban Book 3\n"
     ]
    }
   ],
   "source": [
    "content_based(\"A Soldier of the Great War\")"
   ]
  },
  {
   "cell_type": "code",
   "execution_count": null,
   "id": "dbc3153c",
   "metadata": {},
   "outputs": [],
   "source": []
  }
 ],
 "metadata": {
  "kernelspec": {
   "display_name": "Python 3 (ipykernel)",
   "language": "python",
   "name": "python3"
  },
  "language_info": {
   "codemirror_mode": {
    "name": "ipython",
    "version": 3
   },
   "file_extension": ".py",
   "mimetype": "text/x-python",
   "name": "python",
   "nbconvert_exporter": "python",
   "pygments_lexer": "ipython3",
   "version": "3.9.13"
  }
 },
 "nbformat": 4,
 "nbformat_minor": 5
}
